{
 "cells": [
  {
   "cell_type": "code",
   "execution_count": 11,
   "id": "c1dbcfe3",
   "metadata": {},
   "outputs": [],
   "source": [
    "# assumtions and information\n",
    "\n",
    "waterusage = 155 # gal/day (hot water)\n",
    "\n",
    "# we're heating up glycol using flat plate solar collectors, and during four hours of the day, \n",
    "# using a plate heat exchanger to transfer the heat of the glycol to the water. \n",
    "\n",
    "T_glycol_in = 30 # temp, c\n",
    "T_glycol_out = 70 # temp, c\n",
    "T_water_in = 8.3 # temp, c\n",
    "T_water_out = 60 # temp, c\n",
    "\n",
    "# for some plate heat exchanger whose width (w) gap width (g) and height (h):\n",
    "he_w = 1 # len, m\n",
    "he_g = .1 # len, m\n",
    "he_L = 2 # len, m\n",
    "\n",
    "# assuming:\n",
    "phi = 1.2 # plate area enlargement factor, chosen between 1.15 - 1.25\n",
    "N_p = 5 # number of plates\n",
    "t_p = .0014 # plate thickness, m\n",
    "k_p = 401 # conductivity, w/mK (copper)\n",
    "\n",
    "c_glycol = 3747 # specific heat, kJ/kgC\n",
    "c_water = 4182 # specific heat, kJ/kgC\n",
    "\n",
    "rho_glycol = 1041 # density, kg/m2\n",
    "rho_water = 997 # density, kg/m2\n",
    "V = 0.1 # velocity, m/s\n"
   ]
  },
  {
   "cell_type": "code",
   "execution_count": 12,
   "id": "6c128080",
   "metadata": {},
   "outputs": [
    {
     "name": "stdout",
     "output_type": "stream",
     "text": [
      "Channel area: 0.1 m2\n",
      "Effective diameter: 0.16666666666666669 m\n",
      "Heat transfer area: 2.4 m2\n",
      "Log mean temp: 43.96143574305586 deg C\n",
      "Qdot glycol: 1560250.8000000003 J\n",
      "Qdot water: 2155607.7180000003 J\n"
     ]
    }
   ],
   "source": [
    "import sympy as sym\n",
    "import math as m\n",
    "\n",
    "# Equations\n",
    "\n",
    "A_c = he_w * he_g # channel area\n",
    "D_h = 2 * he_g # hydraulic diameter\n",
    "D_e = (2 * he_g) / phi # effective diameter\n",
    "A_p = phi * he_w * he_L # heat transfer area of the plate\n",
    "\n",
    "T_2 = abs(T_glycol_in - T_water_out)\n",
    "T_1 = abs(T_glycol_out - T_water_in)\n",
    "T_lm = abs(T_1 - T_2) / (m.log((T_1)/(T_2)))\n",
    "\n",
    "# find heat rates\n",
    "mdot_glycol = rho_glycol * A_c * V\n",
    "Qdot_glycol = mdot_glycol * c_glycol * abs(T_glycol_out - T_glycol_in)\n",
    "\n",
    "mdot_water = rho_water * A_c * V\n",
    "Qdot_water = mdot_water * c_water * abs(T_water_out - T_water_in)\n",
    "\n",
    "# Qdot = UA T_lm \n",
    "\n",
    "print(f\"Channel area: {A_c} m2\\nEffective diameter: {D_e} m\\nHeat transfer area: {A_p} m2\")\n",
    "print(f\"Log mean temp: {T_lm} deg C\\nQdot glycol: {Qdot_glycol} J\\nQdot water: {Qdot_water} J\")\n"
   ]
  },
  {
   "cell_type": "code",
   "execution_count": 4,
   "id": "d9621d1f",
   "metadata": {},
   "outputs": [
    {
     "ename": "SyntaxError",
     "evalue": "invalid syntax (<ipython-input-4-7b30e15a8cfe>, line 4)",
     "output_type": "error",
     "traceback": [
      "\u001b[1;36m  File \u001b[1;32m\"<ipython-input-4-7b30e15a8cfe>\"\u001b[1;36m, line \u001b[1;32m4\u001b[0m\n\u001b[1;33m    rho =\u001b[0m\n\u001b[1;37m          ^\u001b[0m\n\u001b[1;31mSyntaxError\u001b[0m\u001b[1;31m:\u001b[0m invalid syntax\n"
     ]
    }
   ],
   "source": [
    "# Convection coefficient h\n",
    "# use the nusselt number\n",
    "\n",
    "rho = \n",
    "mew = sum(T_1 + T_2)/2# bulk mean temp\n",
    "mew_w = # temperature of the plates\n",
    "\n",
    "C_h = \n",
    "Re = (rho * V * D_e) / meu\n",
    "\n",
    "Nu = C_h(Re)**n * Pr**(1/3) * (meu/mew_w)*0.17\n"
   ]
  },
  {
   "cell_type": "code",
   "execution_count": 28,
   "id": "21253c2d",
   "metadata": {},
   "outputs": [],
   "source": [
    "def calculate(he_w, he_g, he_L):\n",
    "    phi = 1.2\n",
    "    T_glycol_in = 30 # temp, c\n",
    "    T_glycol_out = 70 # temp, c\n",
    "    T_water_in = 8.3 # temp, c\n",
    "    T_water_out = 60 # temp, c\n",
    "    V = 0.1\n",
    "    c_glycol = 3747 # specific heat, kJ/kgC\n",
    "    c_water = 4182 # specific heat, kJ/kgC\n",
    "    \n",
    "    A_c = he_w * he_g # channel area\n",
    "    D_h = 2 * he_g # hydraulic diameter\n",
    "    D_e = (2 * he_g) / phi # effective diameter\n",
    "    A_p = phi * he_w * he_L # heat transfer area of the plate\n",
    "\n",
    "    T_2 = abs(T_glycol_in - T_water_out)\n",
    "    T_1 = abs(T_glycol_out - T_water_in)\n",
    "    T_lm = abs(T_1 - T_2) / (m.log((T_1)/(T_2)))\n",
    "\n",
    "    # find heat rates\n",
    "    mdot_glycol = rho_glycol * A_c * V\n",
    "    Qdot_glycol = mdot_glycol * c_glycol * abs(T_glycol_out - T_glycol_in)\n",
    "\n",
    "    mdot_water = rho_water * A_c * V\n",
    "    Qdot_water = mdot_water * c_water * abs(T_water_out - T_water_in)\n",
    "    return round(Qdot_water,5), round(Qdot_glycol,5)"
   ]
  },
  {
   "cell_type": "code",
   "execution_count": 31,
   "id": "08992ebe",
   "metadata": {},
   "outputs": [],
   "source": [
    "import numpy as np\n",
    "#start stop step\n",
    "he_w = np.arange(0.1, 1, 0.1)\n",
    "he_g = np.arange(.001, .005, 0.0001)\n",
    "he_L = np.arange(0.1, 1, 0.1)\n",
    "\n",
    "ansList = []\n",
    "\n",
    "for width in he_w:\n",
    "    for gap in he_g:\n",
    "        for height in he_L:\n",
    "            ans = calculate(width, gap, height)\n",
    "            ansList.append(ans)"
   ]
  },
  {
   "cell_type": "code",
   "execution_count": 1,
   "id": "50025166",
   "metadata": {
    "scrolled": false
   },
   "outputs": [],
   "source": [
    "import pprint as pp\n",
    "#pp.pprint(ansList)"
   ]
  },
  {
   "cell_type": "code",
   "execution_count": null,
   "id": "3e09e35e",
   "metadata": {},
   "outputs": [],
   "source": []
  }
 ],
 "metadata": {
  "kernelspec": {
   "display_name": "Python 3 (ipykernel)",
   "language": "python",
   "name": "python3"
  },
  "language_info": {
   "codemirror_mode": {
    "name": "ipython",
    "version": 3
   },
   "file_extension": ".py",
   "mimetype": "text/x-python",
   "name": "python",
   "nbconvert_exporter": "python",
   "pygments_lexer": "ipython3",
   "version": "3.9.7"
  }
 },
 "nbformat": 4,
 "nbformat_minor": 5
}
