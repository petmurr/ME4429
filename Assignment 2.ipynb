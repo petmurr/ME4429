{
 "cells": [
  {
   "cell_type": "code",
   "execution_count": 2,
   "id": "64ffa19e",
   "metadata": {},
   "outputs": [],
   "source": [
    "import math\n",
    "# 72 in (6ft) \n",
    "# 100 ft pipe \n",
    "# 10 ft sections\n",
    "# 2 90deg fittings\n",
    "# ? pipe unions\n",
    "# 1 globe valve\n",
    "# 1 shutoff valve"
   ]
  },
  {
   "cell_type": "code",
   "execution_count": null,
   "id": "cadaeb03",
   "metadata": {},
   "outputs": [],
   "source": []
  },
  {
   "cell_type": "code",
   "execution_count": 7,
   "id": "c65e1900",
   "metadata": {},
   "outputs": [
    {
     "name": "stdout",
     "output_type": "stream",
     "text": [
      "With 100 ft of pipe in 2 ft increments, we have 50 total pipe union joints.\n"
     ]
    }
   ],
   "source": [
    "total_pipe_len = 100 # ft\n",
    "pipe_section_len = 2 # ft\n",
    "num_pipe_unions = math.ceil(total_pipe_len / pipe_section_len)\n",
    "num_90_fittings = 2\n",
    "v_water = 6.15 # m/s\n",
    "\n",
    "hl_major = 192.15 # m\n",
    "\n",
    "print(f\"With {total_pipe_len} ft of pipe in {pipe_section_len} ft increments, we have {num_pipe_unions} total pipe union joints.\")"
   ]
  },
  {
   "cell_type": "code",
   "execution_count": 4,
   "id": "9a96229a",
   "metadata": {},
   "outputs": [],
   "source": [
    "k_pipe_unions = 0.08 * num_pipe_unions\n",
    "\n",
    "k_globe_valve = 10.0\n",
    "k_shutoff_valve = 0.05\n",
    "\n",
    "k_90_fittings = 2 * .9\n",
    "\n",
    "k_total = k_pipe_unions + k_globe_valve + k_shutoff_valve + k_90_fittings\n",
    "\n",
    "hl_minor = k_total * ((v_water**2) / (2*(9.8)))\n",
    "\n",
    "#rint(f\"pipe unions: {k_pipe_unions}\")\n",
    "#print(f\"globe valve: {k_globe_valve}\")\n",
    "#print(f\"shutoff: {k_shutoff_valve}\")\n",
    "#print(f\"k_90_fittings: {k_90_fittings}\")"
   ]
  },
  {
   "cell_type": "code",
   "execution_count": 16,
   "id": "93dc921a",
   "metadata": {},
   "outputs": [
    {
     "name": "stdout",
     "output_type": "stream",
     "text": [
      "Total head loss: 222.736 m\n",
      "Minor head loss: 30.586 m\n",
      "Major head loss: 192.15 m\n"
     ]
    }
   ],
   "source": [
    "hl_total = hl_major + hl_minor\n",
    "\n",
    "print(f\"Total head loss: {round(hl_total,3)} m\\nMinor head loss: {round(hl_minor,3)} m\\nMajor head loss: {round(hl_major, 3)} m\")"
   ]
  },
  {
   "cell_type": "code",
   "execution_count": 13,
   "id": "5290b0a5",
   "metadata": {},
   "outputs": [
    {
     "data": {
      "text/plain": [
       "222.736"
      ]
     },
     "execution_count": 13,
     "metadata": {},
     "output_type": "execute_result"
    }
   ],
   "source": [
    "round(hl_total,3)"
   ]
  },
  {
   "cell_type": "code",
   "execution_count": 46,
   "id": "79e4e6f4",
   "metadata": {},
   "outputs": [
    {
     "name": "stdout",
     "output_type": "stream",
     "text": [
      "Inlet pressure: 42.245 m\n",
      "Well depth: 30.48\n",
      "Total head loss 222.736 m\n",
      "\n",
      "Total head required: 295.461 m (969.361 ft)\n"
     ]
    }
   ],
   "source": [
    "inlet_pressure = 60 # psig\n",
    "#  2.31 feet of head = 1 PSI\n",
    "inlet_head = inlet_pressure * 2.31 # ft\n",
    "inlet_head_m = inlet_head * 0.3048 # m\n",
    "\n",
    "well_depth = 100 # ft\n",
    "well_depth_m = well_depth * 0.3048 # m\n",
    "\n",
    "total_head_required = inlet_head_m + well_depth_m + hl_total\n",
    "print(f\"Inlet pressure: {round(inlet_head_m,3)} m\\nWell depth: {round(well_depth_m,3)}\\nTotal head loss {round(hl_total,3)} m\\n\")\n",
    "\n",
    "print(f\"Total head required: {round(total_head_required,3)} m ({round(total_head_required/0.3048,3)} ft)\")"
   ]
  },
  {
   "cell_type": "code",
   "execution_count": 20,
   "id": "ef991f94",
   "metadata": {},
   "outputs": [
    {
     "name": "stdout",
     "output_type": "stream",
     "text": [
      "42.212755102040816\n"
     ]
    },
    {
     "data": {
      "text/plain": [
       "85.44275510204082"
      ]
     },
     "execution_count": 20,
     "metadata": {},
     "output_type": "execute_result"
    }
   ],
   "source": [
    "r = 413685/((1000)*(9.8))\n",
    "print(r)\n",
    "\n",
    "r + 30.48 + 12.75"
   ]
  },
  {
   "cell_type": "code",
   "execution_count": 11,
   "id": "a81197ea",
   "metadata": {},
   "outputs": [
    {
     "name": "stdout",
     "output_type": "stream",
     "text": [
      "76970.68688924616\n"
     ]
    }
   ],
   "source": [
    "import math\n",
    "\n",
    "nom_diameter = 3/8 # in\n",
    "ID = .493 # in\n",
    "D = 0.0125222 # inner diam in m\n",
    "Q = .000757 # m3/s\n",
    "v = Q / (math.pi*((D**2)/(4)))\n",
    "u = 1*10**-6\n",
    "re = (4 * Q)/(math.pi*D*u)\n",
    "print(re)"
   ]
  },
  {
   "cell_type": "code",
   "execution_count": 29,
   "id": "395d33b4",
   "metadata": {},
   "outputs": [
    {
     "name": "stdout",
     "output_type": "stream",
     "text": [
      "1118.5500000000002\n",
      "634.1352164531398\n",
      "0.5669261244049347\n",
      "837695.1340199999\n"
     ]
    }
   ],
   "source": [
    "deltaP_m = 85.443 # m\n",
    "deltaP_pa = deltaP_m * 9804.14\n",
    "W = deltaP_pa*Q # work on water\n",
    "W_pump_hp = 1.5 \n",
    "W_pump = W_pump_hp * 745.7 # watts\n",
    "\n",
    "n_pump = W/W_pump\n",
    "\n",
    "print(W_pump)\n",
    "print(W)\n",
    "print(n_pump)\n",
    "\n",
    "print(deltaP_pa)"
   ]
  }
 ],
 "metadata": {
  "kernelspec": {
   "display_name": "Python 3",
   "language": "python",
   "name": "python3"
  },
  "language_info": {
   "codemirror_mode": {
    "name": "ipython",
    "version": 3
   },
   "file_extension": ".py",
   "mimetype": "text/x-python",
   "name": "python",
   "nbconvert_exporter": "python",
   "pygments_lexer": "ipython3",
   "version": "3.6.5"
  }
 },
 "nbformat": 4,
 "nbformat_minor": 5
}
