{
 "cells": [
  {
   "cell_type": "code",
   "execution_count": 1,
   "id": "64ffa19e",
   "metadata": {},
   "outputs": [],
   "source": [
    "import math\n",
    "# 72 in (6ft) \n",
    "# 100 ft pipe \n",
    "# 10 ft sections\n",
    "# 2 90deg fittings\n",
    "# ? pipe unions\n",
    "# 1 globe valve\n",
    "# 1 shutoff valve"
   ]
  },
  {
   "cell_type": "code",
   "execution_count": 27,
   "id": "c65e1900",
   "metadata": {},
   "outputs": [],
   "source": [
    "total_pipe_len = 100 # ft\n",
    "pipe_section_len = 2 #ft\n",
    "num_pipe_unions = math.ceil(total_pipe_len / pipe_section_len)\n",
    "num_90_fittings = 2\n",
    "v_water = 6.15 # m/s\n",
    "\n",
    "hl_major = 192.15 # m"
   ]
  },
  {
   "cell_type": "code",
   "execution_count": 40,
   "id": "9a96229a",
   "metadata": {},
   "outputs": [],
   "source": [
    "k_pipe_unions = 0.08 * num_pipe_unions\n",
    "\n",
    "k_globe_valve = 10.0\n",
    "k_shutoff_valve = 0.05\n",
    "\n",
    "k_90_fittings = 2 * .9\n",
    "\n",
    "k_total = k_pipe_unions + k_globe_valve + k_shutoff_valve + k_90_fittings\n",
    "\n",
    "hl_minor = k_total * ((v_water**2) / (2*(9.8)))\n",
    "\n",
    "#rint(f\"pipe unions: {k_pipe_unions}\")\n",
    "#print(f\"globe valve: {k_globe_valve}\")\n",
    "#print(f\"shutoff: {k_shutoff_valve}\")\n",
    "#print(f\"k_90_fittings: {k_90_fittings}\")"
   ]
  },
  {
   "cell_type": "code",
   "execution_count": 41,
   "id": "93dc921a",
   "metadata": {},
   "outputs": [
    {
     "name": "stdout",
     "output_type": "stream",
     "text": [
      "222.73605229591837\n",
      "30.58605229591837\n",
      "15.850000000000001\n"
     ]
    }
   ],
   "source": [
    "hl_total = hl_major + hl_minor\n",
    "print(hl_total)\n",
    "print(hl_minor)\n",
    "print(k_total)"
   ]
  }
 ],
 "metadata": {
  "kernelspec": {
   "display_name": "Python 3",
   "language": "python",
   "name": "python3"
  },
  "language_info": {
   "codemirror_mode": {
    "name": "ipython",
    "version": 3
   },
   "file_extension": ".py",
   "mimetype": "text/x-python",
   "name": "python",
   "nbconvert_exporter": "python",
   "pygments_lexer": "ipython3",
   "version": "3.6.5"
  }
 },
 "nbformat": 4,
 "nbformat_minor": 5
}
