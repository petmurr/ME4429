{
 "cells": [
  {
   "cell_type": "code",
   "execution_count": 2,
   "id": "64ffa19e",
   "metadata": {},
   "outputs": [],
   "source": [
    "import math\n",
    "# 72 in (6ft) \n",
    "# 100 ft pipe \n",
    "# 10 ft sections\n",
    "# 2 90deg fittings\n",
    "# ? pipe unions\n",
    "# 1 globe valve\n",
    "# 1 shutoff valve"
   ]
  },
  {
   "cell_type": "code",
   "execution_count": 7,
   "id": "c65e1900",
   "metadata": {},
   "outputs": [
    {
     "name": "stdout",
     "output_type": "stream",
     "text": [
      "With 100 ft of pipe in 2 ft increments, we have 50 total pipe union joints.\n"
     ]
    }
   ],
   "source": [
    "total_pipe_len = 100 # ft\n",
    "pipe_section_len = 2 # ft\n",
    "num_pipe_unions = math.ceil(total_pipe_len / pipe_section_len)\n",
    "num_90_fittings = 2\n",
    "v_water = 6.15 # m/s\n",
    "\n",
    "hl_major = 192.15 # m\n",
    "\n",
    "print(f\"With {total_pipe_len} ft of pipe in {pipe_section_len} ft increments, we have {num_pipe_unions} total pipe union joints.\")"
   ]
  },
  {
   "cell_type": "code",
   "execution_count": 4,
   "id": "9a96229a",
   "metadata": {},
   "outputs": [],
   "source": [
    "k_pipe_unions = 0.08 * num_pipe_unions\n",
    "\n",
    "k_globe_valve = 10.0\n",
    "k_shutoff_valve = 0.05\n",
    "\n",
    "k_90_fittings = 2 * .9\n",
    "\n",
    "k_total = k_pipe_unions + k_globe_valve + k_shutoff_valve + k_90_fittings\n",
    "\n",
    "hl_minor = k_total * ((v_water**2) / (2*(9.8)))\n",
    "\n",
    "#rint(f\"pipe unions: {k_pipe_unions}\")\n",
    "#print(f\"globe valve: {k_globe_valve}\")\n",
    "#print(f\"shutoff: {k_shutoff_valve}\")\n",
    "#print(f\"k_90_fittings: {k_90_fittings}\")"
   ]
  },
  {
   "cell_type": "code",
   "execution_count": 16,
   "id": "93dc921a",
   "metadata": {},
   "outputs": [
    {
     "name": "stdout",
     "output_type": "stream",
     "text": [
      "Total head loss: 222.736 m\n",
      "Minor head loss: 30.586 m\n",
      "Major head loss: 192.15 m\n"
     ]
    }
   ],
   "source": [
    "hl_total = hl_major + hl_minor\n",
    "\n",
    "print(f\"Total head loss: {round(hl_total,3)} m\\nMinor head loss: {round(hl_minor,3)} m\\nMajor head loss: {round(hl_major, 3)} m\")"
   ]
  },
  {
   "cell_type": "code",
   "execution_count": 13,
   "id": "5290b0a5",
   "metadata": {},
   "outputs": [
    {
     "data": {
      "text/plain": [
       "222.736"
      ]
     },
     "execution_count": 13,
     "metadata": {},
     "output_type": "execute_result"
    }
   ],
   "source": [
    "round(hl_total,3)"
   ]
  },
  {
   "cell_type": "code",
   "execution_count": 17,
   "id": "79e4e6f4",
   "metadata": {},
   "outputs": [],
   "source": [
    "required_inlet_pressure = 60 # psig\n",
    "well_depth = 50 # ft\n"
   ]
  }
 ],
 "metadata": {
  "kernelspec": {
   "display_name": "Python 3 (ipykernel)",
   "language": "python",
   "name": "python3"
  },
  "language_info": {
   "codemirror_mode": {
    "name": "ipython",
    "version": 3
   },
   "file_extension": ".py",
   "mimetype": "text/x-python",
   "name": "python",
   "nbconvert_exporter": "python",
   "pygments_lexer": "ipython3",
   "version": "3.9.7"
  }
 },
 "nbformat": 4,
 "nbformat_minor": 5
}
