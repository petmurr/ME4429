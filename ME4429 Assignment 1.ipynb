{
 "cells": [
  {
   "cell_type": "markdown",
   "id": "6994a8ea",
   "metadata": {},
   "source": [
    "## ME4429 Assignment 1 - Thermo Review"
   ]
  },
  {
   "cell_type": "code",
   "execution_count": 1,
   "id": "62646ed5",
   "metadata": {},
   "outputs": [],
   "source": [
    "# Environmental properties (from given values & psychrometric chart)\n",
    "Td_out = 35.0 # deg C, dry bulb temp\n",
    "Tw_out = 30.0 # deg C, wet bulb temp\n",
    "sV_out = 0.91 # m3/kg, specific volume\n",
    "hum_out = 0.74 # relative humidity\n",
    "w_out = 25.0 # g/kg dry air, specific humidity\n",
    "h_out = 98.0 # kJ/kg dry air, specific enthalpy \n",
    "\n",
    "Td_in = 23.9 \n",
    "Tw_in = 14.0\n",
    "sV_in = 0.85\n",
    "hum_in = 0.3 \n",
    "w_in = 9.0 \n",
    "h_in = 38.0 "
   ]
  },
  {
   "cell_type": "code",
   "execution_count": 5,
   "id": "7a92c890",
   "metadata": {},
   "outputs": [
    {
     "name": "stdout",
     "output_type": "stream",
     "text": [
      "Mass flow rate: 0.223 kg/s\n",
      "Volumetric flow rate: 0.186 m3/s\n",
      "Airflow: 0.225 cfm/sqft\n"
     ]
    }
   ],
   "source": [
    "# Building properties\n",
    "floorspace = 1750 # ft3\n",
    "height_house = 9 # ft, average height (room) house\n",
    "v_house_ft3 = floorspace * height_house # ft3, volume\n",
    "v_house = v_house_ft3 / 35.315 # m3, volume\n",
    "airchanges_hr = 1.5 # (how many times the air in the house is refreshed)/hr\n",
    "\n",
    "# solve for mass of dry air at house temp\n",
    "p = 101325 # pascal, pressure\n",
    "R = 287.05 # ideal gas constant\n",
    "Td_in_k = Td_in + 273 # k, temp\n",
    "density_dryair = p / (R * Td_in_k) # kg/m3\n",
    "m_dryair = density_dryair * v_house # kg\n",
    "\n",
    "# House air is dry air + water. Add the masses to find total mass.\n",
    "m_air = m_dryair + (m_dryair * (w_in / 1000))\n",
    "\n",
    "# solve for mass flow rate\n",
    "mdot_hr = m_air * airchanges_hr # kg/hr\n",
    "mdot_sec = mdot_hr / (60*60) # kg/s\n",
    "print(f\"Mass flow rate: {round(mdot_sec,3)} kg/s\")\n",
    "\n",
    "# solve for volumetric flow rate\n",
    "vdot_hr = v_house * airchanges_hr # m3/hr\n",
    "vdot_s = vdot_hr / (60*60) # m3/s\n",
    "print(f\"Volumetric flow rate: {round(vdot_s,3)} m3/s\")\n",
    "\n",
    "# check if 0.7-1.1 cfm/sqft matches recommended values\n",
    "# solve for volumetric flow rate in imperial\n",
    "vdot_hr_i = v_house_ft3 * airchanges_hr # ft3/hr\n",
    "vdot_min_i = vdot_hr_i / 60 # ft3/min\n",
    "airflow = vdot_min_i / floorspace\n",
    "print(f\"Airflow: {round(airflow,3)} cfm/sqft\")"
   ]
  },
  {
   "cell_type": "markdown",
   "id": "3e551f89",
   "metadata": {},
   "source": [
    "## Part 1a"
   ]
  },
  {
   "cell_type": "code",
   "execution_count": 6,
   "id": "7b834384",
   "metadata": {},
   "outputs": [
    {
     "name": "stdout",
     "output_type": "stream",
     "text": [
      "Mass flow rate: 0.223, kg/s\n",
      "Dry bulb temp: 23.9 deg C\n",
      "Wet bulb temp: 14.0 dec C\n",
      "Relative humidity: 0.3\n",
      "Specific enthalpy: 38.0 kJ/kg\n"
     ]
    }
   ],
   "source": [
    "print(f\"Mass flow rate: {round(mdot_sec,3)}, kg/s\")\n",
    "print(f\"Dry bulb temp: {Td_in} deg C\")\n",
    "print(f\"Wet bulb temp: {Tw_in} dec C\")\n",
    "print(f\"Relative humidity: {hum_in}\")\n",
    "print(f\"Specific enthalpy: {h_in} kJ/kg\")"
   ]
  },
  {
   "cell_type": "code",
   "execution_count": 45,
   "id": "ea86cfa3",
   "metadata": {},
   "outputs": [
    {
     "name": "stdout",
     "output_type": "stream",
     "text": [
      "\n",
      "\t== State 1 == \n",
      "Dry bulb temp (C): 23.9\n",
      "Wet bulb temp (C): 14.0\n",
      "Specific vol (m3/kg): 0.85\n",
      "Humidity: 0.3\n",
      "Specific Humidity (g H20/kg dry air): 9.0\n",
      "Specific Enthalpy (kJ/kg): 38.0\n",
      "\n",
      "\t== State 4 == \n",
      "Dry bulb temp (C): 35.0\n",
      "Wet bulb temp (C): 30.0\n",
      "Specific vol (m3/kg): 0.91\n",
      "Humidity: 0.74\n",
      "Specific Humidity (g H20/kg dry air): 25.0\n",
      "Specific Enthalpy (kJ/kg): 98.0\n",
      "\n",
      "mdot_5: 0.223 kg/s\n",
      "h_5: 64.915 kJ/kg\n",
      "Td_5: 28.879 C\n",
      "\n"
     ]
    }
   ],
   "source": [
    "# referencing diagram for states\n",
    "mdot_exaust = 0.1\n",
    "\n",
    "# 1 (from house)\n",
    "Td_1 = Td_in\n",
    "Tw_1 = Tw_in\n",
    "sV_1 = sV_in\n",
    "hum_1 = hum_in\n",
    "w_1 = w_in\n",
    "h_1 = h_in\n",
    "mdot_1 = mdot_sec # kg/s, mass flow rate (from above calulation)\n",
    "print(\"\\n\\t== State 1 == \")\n",
    "for elem in zip([Td_1, Tw_1, sV_1, hum_1, w_1, h_1],[\"Dry bulb temp (C):\", \"Wet bulb temp (C):\", \"Specific vol (m3/kg):\",\"Humidity:\",\"Specific Humidity (g H20/kg dry air):\",\"Specific Enthalpy (kJ/kg):\"]):\n",
    "    print(f\"{elem[1]} {elem[0]}\")\n",
    "\n",
    "# 2 (exaust) same as 1, except:\n",
    "mdot_2 = mdot_exaust\n",
    "\n",
    "# 3 (b4 intake) same as 1, except:\n",
    "mdot_3 = mdot_1 - mdot_2\n",
    "h_3 = h_1\n",
    "Td_3 = Td_1\n",
    "\n",
    "# 4 (intake)\n",
    "Td_4 = Td_out\n",
    "Tw_4 = Tw_out\n",
    "sV_4 = sV_out\n",
    "hum_4 = hum_out\n",
    "w_4 = w_out\n",
    "h_4 = h_out\n",
    "mdot_4 = 0.1 # kg/s, mass flow rate\n",
    "print(\"\\n\\t== State 4 == \")\n",
    "for elem in zip([Td_4, Tw_4, sV_4, hum_4, w_4, h_4],[\"Dry bulb temp (C):\", \"Wet bulb temp (C):\", \"Specific vol (m3/kg):\",\"Humidity:\",\"Specific Humidity (g H20/kg dry air):\",\"Specific Enthalpy (kJ/kg):\"]):\n",
    "    print(f\"{elem[1]} {elem[0]}\")\n",
    "\n",
    "# 5 (b4 coils) here we combine (or mix) the two incoming sources with an energy balance\n",
    "mdot_5 = mdot_4 + mdot_3\n",
    "h_5 = (((mdot_3) / (mdot_5)) * h_3) + (((mdot_4) / (mdot_5)) * h_4)\n",
    "\n",
    "# for temp, take temp fraction from each inlet\n",
    "Td_5 = ((mdot_3 / mdot_5) * Td_3) + ((mdot_4 / mdot_5) * Td_4)\n",
    "print(f\"\\nmdot_5: {round(mdot_5,3)} kg/s\\nh_5: {round(h_5,3)} kJ/kg\\nTd_5: {round(Td_5,3)} C\\n\")\n",
    "\n",
    "# 6 (into house), from phychromatic chart, moving RH to 100 as coils cool air\n",
    "hum_6 = 1\n",
    "h_6 = 19.0 # kJ/kg dry air, specific enthalpy \n",
    "w_6 = 6 # g/kg dry air, specific humidity\n"
   ]
  },
  {
   "cell_type": "markdown",
   "id": "bb2e9237",
   "metadata": {},
   "source": [
    "## Part 1b"
   ]
  },
  {
   "cell_type": "code",
   "execution_count": 44,
   "id": "ab585d99",
   "metadata": {},
   "outputs": [
    {
     "name": "stdout",
     "output_type": "stream",
     "text": [
      "Cooling Capacity: 10.235 kW, 34925 BTU/hr, or 2.91 tons of refridgeration.\n"
     ]
    }
   ],
   "source": [
    "# Heat in\n",
    "solar_heat_gain = 24000 # watts, power\n",
    "people_and_appliances = 900 # watts, power\n",
    "Q_in = solar_heat_gain + people_and_appliances\n",
    "\n",
    "Q_c = mdot_5 * (h_5 - h_6)\n",
    "Q_h = mdot_1 * (h_1 - h_6)\n",
    "#Q_envelope = ( - Q_in)\n",
    "\n",
    "Q_c_btuhr = Q_c * 3412.14245\n",
    "Q_c_tonsref = Q_c / 3.517\n",
    "\n",
    "print(f\"Cooling Capacity: {round(Q_c, 3)} kW, {round(Q_c_btuhr)} BTU/hr, or {round(Q_c_tonsref,3)} tons of refridgeration.\")"
   ]
  },
  {
   "cell_type": "markdown",
   "id": "c23c660d",
   "metadata": {},
   "source": [
    "## Part 1c"
   ]
  },
  {
   "cell_type": "code",
   "execution_count": null,
   "id": "3d98ec96",
   "metadata": {},
   "outputs": [],
   "source": [
    "# Given a realistic change in enthalpy from 40 -> 240 kJ/kg (see attached PV diagram for R134a), \n",
    "# we can calculate the mass flow rate of the refrigerant within the heat exchanger.\n",
    "\n",
    "h_refrigerant_0 = 40 # kJ/kg, enthalpy\n",
    "h_refrigerant_1 = 240 #kJ/kg, enthalpy\n",
    "\n",
    "mdot_refrigerant = mdot_"
   ]
  }
 ],
 "metadata": {
  "kernelspec": {
   "display_name": "Python 3 (ipykernel)",
   "language": "python",
   "name": "python3"
  },
  "language_info": {
   "codemirror_mode": {
    "name": "ipython",
    "version": 3
   },
   "file_extension": ".py",
   "mimetype": "text/x-python",
   "name": "python",
   "nbconvert_exporter": "python",
   "pygments_lexer": "ipython3",
   "version": "3.9.7"
  }
 },
 "nbformat": 4,
 "nbformat_minor": 5
}
