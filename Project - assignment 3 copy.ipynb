{
 "cells": [
  {
   "cell_type": "markdown",
   "id": "b639d72d",
   "metadata": {},
   "source": [
    "# ME4429 Project (assignment 3)"
   ]
  },
  {
   "cell_type": "markdown",
   "id": "9b706cf2",
   "metadata": {},
   "source": [
    "#Peter Murray, Jacob Abrogar, Erin Lee, Jose Rivera</br>\n",
    "Professor Levey</br>\n",
    "ME4429 Thermofluid Application and Design</br>\n",
    "9/18/2022"
   ]
  },
  {
   "cell_type": "markdown",
   "id": "da40360e",
   "metadata": {},
   "source": []
  },
  {
   "cell_type": "markdown",
   "id": "90e23c44",
   "metadata": {},
   "source": [
    "## Part 3 (outdated)\n",
    "    Number of plates: 8\n",
    "    Gap width: 7 mm\n",
    "    Plate dimensions: 10x15 mm\n",
    "    Plate material: Copper (!)\n",
    "    Pressing Pattern: 45 deg chevron\n",
    "    Port Diameter: .23 mm\n",
    "#### Flow rates:\n",
    "    Water Volumetric flow rate: 4.07e-05 m3/s\n",
    "    Water Mass flow rate:  0.0408 kg/s\n",
    "    Glycol Volumetric flow rate: 0.000336 m3/s\n",
    "    Glycol Mass flow rate: 0.000336 kg/s\n",
    "#### Temperatures\n",
    "    Water In: 8.3 C\n",
    "    Water Out: 60 C\n",
    "    Glycol In: 70 C\n",
    "    Glycol Out: 63 C\n",
    "#### Pressure Drops:\n",
    "    Channel deltaP:  110263 pa (Water)  110594 pa (Glycol)\n",
    "    Port deltaP:  4.119 pa (Water) 4.119 pa (Glycol)"
   ]
  },
  {
   "cell_type": "code",
   "execution_count": 26,
   "id": "396fa8f0",
   "metadata": {
    "scrolled": true
   },
   "outputs": [
    {
     "name": "stdout",
     "output_type": "stream",
     "text": [
      "Volumetric flow rate: (water) 2.6287569444444446e-05 m3/s\n",
      "Mass flow rate: (water) 0.026319444444444444 kg/s\n",
      "Heat: 5690.511291666667 W\n"
     ]
    }
   ],
   "source": [
    "# start with water\n",
    "waterusage = 100 # gal/day (hot water)\n",
    "\n",
    "c_celcius_water = 4.182 # specific heat, kJ/kgC\n",
    "c_kelvin_water = 0.0152 # KJ/KgK\n",
    "rho_water = 997 # density, kg/m3\n",
    "\n",
    "T_water_in = 8.3 # temp, c (groundwater, from assig.3)\n",
    "T_water_out = 60 # temp, c (project requirements)\n",
    "\n",
    "Q_water_galhr = waterusage/4 # gal/hr (volumetric flowrate)\n",
    "Q_water_m3hr = Q_water_galhr * 0.00378541 # this number is the conversion to m^3\n",
    "Q_water_m3s = Q_water_m3hr / (60 * 60)\n",
    "print(f'Volumetric flow rate: (water) {Q_water_m3s} m3/s')\n",
    "\n",
    "mdot_water_kghr = Q_water_galhr * 3.79 # kg/hr this number is the conversion to kg\n",
    "mdot_water = mdot_water_kghr / (60 * 60) # kg/s\n",
    "print(f'Mass flow rate: (water) {mdot_water} kg/s')\n",
    "\n",
    "Qdot_water_kW = mdot_water * c_celcius_water * (T_water_out - T_water_in)\n",
    "Qdot_water = Qdot_water_kW * 1000\n",
    "print(f'Heat: {Qdot_water} W')"
   ]
  },
  {
   "cell_type": "code",
   "execution_count": 27,
   "id": "f22ad1aa",
   "metadata": {},
   "outputs": [
    {
     "name": "stdout",
     "output_type": "stream",
     "text": [
      "Mass flow rate (glycol): 0.03872 kg/s\n",
      "Volumetric flow rate (glycol): 3.87215e-05 m3/s\n"
     ]
    }
   ],
   "source": [
    "T_glycol_in = 70 # temp, C (from Flat Plate Solar)\n",
    "T_glycol_out = 30 # temp, C (from assignment 3)\n",
    "c_celcius_glycol = 3.674 # specific heat at 30C, kJ/kgC (!)\n",
    "c_kelvin_glycol = 0.0134 #kJ/kgC\n",
    "rho_glycol = 1000 # density, kg/m3\n",
    "\n",
    "meu_water = 0.000732 # dynamic viscosity @ 34.15C Pa*s\n",
    "meu_glycol = 0.042 # dynamic viscosity Pa*s\n",
    "meu_w_water = .000544 # dynamic viscosity Pa*s\n",
    "meu_w_glycol = meu_w_water\n",
    "\n",
    "K_water = .621 # conductivity, W/mK\n",
    "K_glycol = 0.147 # conductivity, W/mK\n",
    "\n",
    "Qdot_glycol_kW = Qdot_water\n",
    "\n",
    "\n",
    "#print(Qdot_glycol_kW)\n",
    "\n",
    "mdot_glycol = ((Qdot_glycol_kW) / (c_celcius_glycol * (T_glycol_in - T_glycol_out)) )/1000\n",
    "Q_glycol = mdot_glycol / rho_glycol # volumetric flow rate, m3/s\n",
    "print(f'Mass flow rate (glycol): {round(mdot_glycol,5)} kg/s')\n",
    "print(f'Volumetric flow rate (glycol): {round(Q_glycol,10)} m3/s')"
   ]
  },
  {
   "cell_type": "code",
   "execution_count": 28,
   "id": "efda5f6e",
   "metadata": {},
   "outputs": [
    {
     "name": "stdout",
     "output_type": "stream",
     "text": [
      "Log mean temp: 15.102090761789544 C \n",
      "A: 0.18840144 m2\n"
     ]
    }
   ],
   "source": [
    "import math as m\n",
    "\n",
    "# assume U\n",
    "U = 2  # kW/m2K\n",
    "\n",
    "T_2 = abs(T_glycol_in - T_water_out)\n",
    "T_1 = abs(T_glycol_out - T_water_in)\n",
    "T_lm = abs(T_1 - T_2) / (m.log((T_1)/(T_2)))\n",
    "print(f'Log mean temp: {T_lm} C ')\n",
    "\n",
    "A = Qdot_water_kW / (U * T_lm)\n",
    "\n",
    "print(f\"A: {round(A,9)} m2\")"
   ]
  },
  {
   "cell_type": "code",
   "execution_count": 29,
   "id": "81aa33c8",
   "metadata": {},
   "outputs": [
    {
     "name": "stdout",
     "output_type": "stream",
     "text": [
      "Np: 1.1214371425818288 (number of plates)\n",
      "Number of plates required: 1\n",
      "V: 0.101106036 m/s\n",
      "Effective diameter: 0.0021667 m\n"
     ]
    }
   ],
   "source": [
    "phi = 1.2 # Area correction factor (range from 1.15-1.25)\n",
    "b = 0.0013 # Gap width, m (!)\n",
    "Wp = .2 # Width of plate, m (GUESS)\n",
    "L = .7 # height of plate, m (GUESS)\n",
    "\n",
    "Ac = Wp * b # Channel area\n",
    "Ap = phi * Wp * L # heat transfer area of the plate\n",
    "Np = A / Ap # Number of plates\n",
    "De = (2 * b) / phi\n",
    "\n",
    "print(f'Np: {Np} (number of plates)')\n",
    "Np = round(Np)\n",
    "print(f'Number of plates required: {Np}')\n",
    "\n",
    "V = Q_water_m3s / (Np * Ac)\n",
    "print(f'V: {round(V,9)} m/s')\n",
    "print(f'Effective diameter: {round(De,7)} m')"
   ]
  },
  {
   "cell_type": "code",
   "execution_count": 30,
   "id": "f7ad5416",
   "metadata": {},
   "outputs": [
    {
     "name": "stdout",
     "output_type": "stream",
     "text": [
      "Reynolds number (water): 298.36870145845984\n",
      "Prandtl number (water): 0.017916908212560385\n",
      "Nusselt number (water): 2.7612324414988\n",
      "Convection heat transfer coefficient (water): 791.4116982326561 W/m2K\n"
     ]
    }
   ],
   "source": [
    "# for water\n",
    "Re_water = (rho_water * V * De) / meu_water\n",
    "print(f'Reynolds number (water): {Re_water}')\n",
    "\n",
    "# From chevron angles, choose 45deg\n",
    "Ch = .3\n",
    "n = .663\n",
    "\n",
    "\n",
    "Pr_water = ((c_kelvin_water*1000) * meu_water) / K_water\n",
    "print(f'Prandtl number (water): {Pr_water}')\n",
    "\n",
    "Nu_water = Ch * (Re_water)**n * Pr_water**(.4) * (meu_water / meu_w_water)**(0.17)\n",
    "print(f'Nusselt number (water): {Nu_water}')\n",
    "\n",
    "h_water = (Nu_water * K_water) / De \n",
    "print(f'Convection heat transfer coefficient (water): {h_water} W/m2K')"
   ]
  },
  {
   "cell_type": "code",
   "execution_count": 31,
   "id": "8d836e58",
   "metadata": {
    "scrolled": false
   },
   "outputs": [
    {
     "name": "stdout",
     "output_type": "stream",
     "text": [
      "Reynolds number (glycol): 299.26650096134387\n",
      "Prandtl number (glycol): 0.9062801932367152\n",
      "Nusselt number (glycol): 26.71942401499687\n",
      "Concection heat transfer coefficient (glycol): 7658.1979907598725 W/m2K\n"
     ]
    }
   ],
   "source": [
    "# for glycol\n",
    "Re_glycol = (rho_glycol * V * De) / meu_water\n",
    "print(f'Reynolds number (glycol): {Re_glycol}')\n",
    "\n",
    "# From chevron angles, choose 45deg\n",
    "Ch = .3\n",
    "n = .663\n",
    "\n",
    "Pr_glycol = ((c_kelvin_glycol*1000) * meu_glycol) / K_water\n",
    "print(f'Prandtl number (glycol): {Pr_glycol}')\n",
    "\n",
    "Nu_glycol = Ch * (Re_glycol)**n * Pr_glycol**(.3) * (meu_glycol / meu_w_glycol)**(0.17)\n",
    "print(f'Nusselt number (glycol): {Nu_glycol}')\n",
    "\n",
    "h_glycol = (Nu_glycol * K_water) / De \n",
    "print(f'Concection heat transfer coefficient (glycol): {h_glycol} W/m2K')"
   ]
  },
  {
   "cell_type": "code",
   "execution_count": 32,
   "id": "0046bd2d",
   "metadata": {},
   "outputs": [
    {
     "name": "stdout",
     "output_type": "stream",
     "text": [
      "U: 517.215 W/m2K\n"
     ]
    }
   ],
   "source": [
    "Tp = .005 # plate thickness, m\n",
    "K_plate = 385 # Copper W/mK (not aluminum, that's toxic) (!)\n",
    "Rf_water = 0.0001763 # Fouling Factor, m2K/W\n",
    "Rf_glycol = 0.00035\n",
    "\n",
    "U_calculated = 1 / ((1/h_glycol) + (Tp/K_plate) + (1/h_water) + Rf_water + Rf_glycol)\n",
    "\n",
    "print(f'U: {round(U_calculated,3)} W/m2K')"
   ]
  },
  {
   "cell_type": "code",
   "execution_count": 33,
   "id": "324d00a1",
   "metadata": {},
   "outputs": [
    {
     "name": "stdout",
     "output_type": "stream",
     "text": [
      "1.782070166291284\n",
      "deltaP water: 2933.932179268999 Pa\n"
     ]
    }
   ],
   "source": [
    "# Pressure through the channels\n",
    "\n",
    "m = 0.206 # for 45deg chevron table\n",
    "Kp = 1.441 # constant from 45deg chevron table\n",
    "\n",
    "#for water\n",
    "\n",
    "f_water = (4 * Kp) / (Re_water**m)\n",
    "print(f_water)\n",
    "\n",
    "deltaP_water = f_water * (L/De) * ((rho_water * V**2) / 2)\n",
    "print(f'deltaP water: {deltaP_water} Pa')"
   ]
  },
  {
   "cell_type": "code",
   "execution_count": 34,
   "id": "887ced1c",
   "metadata": {},
   "outputs": [
    {
     "name": "stdout",
     "output_type": "stream",
     "text": [
      "1.780967532899074\n",
      "2942.7604606509517\n"
     ]
    }
   ],
   "source": [
    "#for glycol\n",
    "\n",
    "f_glycol = (4 * Kp) / (Re_glycol**m)\n",
    "print(f_glycol)\n",
    "\n",
    "deltaP_glycol = f_water * (L/De) * ((rho_glycol * V**2) / 2)\n",
    "print(deltaP_glycol)"
   ]
  },
  {
   "cell_type": "code",
   "execution_count": 35,
   "id": "a3395905",
   "metadata": {},
   "outputs": [
    {
     "name": "stdout",
     "output_type": "stream",
     "text": [
      "0.0013064999999999997\n",
      "0.1428089600307692\n"
     ]
    }
   ],
   "source": [
    "# pressure through the ports\n",
    "\n",
    "Dp = .01 # port diameter, m\n",
    "\n",
    "HE_length = Np * b * (Tp + 1)\n",
    "print(HE_length)\n",
    "\n",
    "# for water - Re_water is 115 -> laminar. Use laminar eq.\n",
    "\n",
    "f_water_pp = 64 / Re_water\n",
    "\n",
    "deltaP_water_pp = f_water_pp * (HE_length/Dp) * ((rho_water * V**2) / 2)\n",
    "print(deltaP_water_pp)"
   ]
  },
  {
   "cell_type": "code",
   "execution_count": 36,
   "id": "2e17b99e",
   "metadata": {},
   "outputs": [
    {
     "name": "stdout",
     "output_type": "stream",
     "text": [
      "0.1428089600307692\n"
     ]
    }
   ],
   "source": [
    "# for glycol - Re_water is 115 -> laminar. Use laminar eq.\n",
    "\n",
    "f_glycol_pp = 64 / Re_glycol\n",
    "\n",
    "deltaP_glycol_pp = f_glycol_pp * (HE_length/Dp) * ((rho_water * V**2) / 2)\n",
    "print(deltaP_water_pp)"
   ]
  },
  {
   "cell_type": "markdown",
   "id": "84f497f8",
   "metadata": {},
   "source": [
    "## Part 4"
   ]
  },
  {
   "cell_type": "code",
   "execution_count": 37,
   "id": "7b4629c0",
   "metadata": {},
   "outputs": [
    {
     "name": "stdout",
     "output_type": "stream",
     "text": [
      "Power required for water: 0.10283960001103752 W\n"
     ]
    }
   ],
   "source": [
    "# determine pumping power\n",
    "# for water-\n",
    "\n",
    "total_deltaP_water = deltaP_water + deltaP_water_pp\n",
    "\n",
    "Wdot_pump = total_deltaP_water * Q_water_m3s\n",
    "\n",
    "P_water = Wdot_pump/.75 # power, watts\n",
    "\n",
    "print(f'Power required for water: {P_water} W')"
   ]
  },
  {
   "cell_type": "code",
   "execution_count": 38,
   "id": "f271314f",
   "metadata": {},
   "outputs": [
    {
     "name": "stdout",
     "output_type": "stream",
     "text": [
      "Power required for glycol: 0.10314901707450659 W\n"
     ]
    }
   ],
   "source": [
    "# for glycol-\n",
    "\n",
    "total_deltaP_glycol = deltaP_glycol + deltaP_glycol_pp\n",
    "\n",
    "Wdot_pump = total_deltaP_glycol * Q_water_m3s\n",
    "\n",
    "P_glycol = Wdot_pump/.75 # power, watts\n",
    "\n",
    "print(f'Power required for glycol: {P_glycol} W')"
   ]
  },
  {
   "cell_type": "markdown",
   "id": "540c0a8f",
   "metadata": {},
   "source": [
    "#### Pumping power requried:\n",
    "    Power required for water: 5.99 W\n",
    "    Power required for glycol: 6.01 W"
   ]
  }
 ],
 "metadata": {
  "kernelspec": {
   "display_name": "Python 3 (ipykernel)",
   "language": "python",
   "name": "python3"
  },
  "language_info": {
   "codemirror_mode": {
    "name": "ipython",
    "version": 3
   },
   "file_extension": ".py",
   "mimetype": "text/x-python",
   "name": "python",
   "nbconvert_exporter": "python",
   "pygments_lexer": "ipython3",
   "version": "3.10.7"
  }
 },
 "nbformat": 4,
 "nbformat_minor": 5
}
