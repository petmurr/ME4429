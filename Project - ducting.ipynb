{
 "cells": [
  {
   "cell_type": "code",
   "execution_count": 88,
   "id": "82e19cc2",
   "metadata": {},
   "outputs": [
    {
     "name": "stdout",
     "output_type": "stream",
     "text": [
      "Cross-sectional area: 0.196 m2\n",
      "Volumetric Flow rate: 1.127 m3/s\n",
      "Volumetric Flow rate: 2387.972 cfm\n",
      "Velocity of air: 5.74 m/s\n"
     ]
    }
   ],
   "source": [
    "import math as m\n",
    "\n",
    "# if our circular tube is 15 cm diameter, we can calculate area\n",
    "D = .5\n",
    "A_c = m.pi * (D/2)**2 # area, m3\n",
    "\n",
    "\n",
    "# we require 1.189 kg/m3 (Q = vA)\n",
    "mdot = 1.34 # mass flow rate, kg/m3\n",
    "rho = 1.189 # density of air at 1atm, 23.8C (kg/m3)\n",
    "\n",
    "Q = mdot / rho # volumetric flow rate (m) since mdot = rho * Q\n",
    "Q_cfm = Q * 2118.88\n",
    "\n",
    "\n",
    "V = Q / A_c # velocity, m/s since Q = V * A\n",
    "\n",
    "print(f\"Cross-sectional area: {round(A_c,3)} m2\")\n",
    "print(f\"Volumetric Flow rate: {round(Q, 3)} m3/s\")\n",
    "print(f\"Volumetric Flow rate: {round(Q_cfm,3)} cfm\")\n",
    "print(f\"Velocity of air: {round(V,3)} m/s\")\n"
   ]
  },
  {
   "cell_type": "code",
   "execution_count": 89,
   "id": "57f39d84",
   "metadata": {},
   "outputs": [
    {
     "name": "stdout",
     "output_type": "stream",
     "text": [
      "Re: 186361.65919662677\n"
     ]
    }
   ],
   "source": [
    "# Now we can find our reynold's #\n",
    "\n",
    "meu = 18.31 * 10**(-6) # Pa * s, dynamic viscosity at 23.8C\n",
    "\n",
    "Re = (rho * V * D) / (meu)\n",
    "\n",
    "print(f'Re: {Re}')"
   ]
  },
  {
   "cell_type": "code",
   "execution_count": 90,
   "id": "b5e0c8e6",
   "metadata": {},
   "outputs": [
    {
     "name": "stdout",
     "output_type": "stream",
     "text": [
      "Our friction factor f: 0.3541805597785045\n"
     ]
    }
   ],
   "source": [
    "# find our f factor (Re implies flow is turbulent)\n",
    "# so, use the Haaland Eq\n",
    "\n",
    "# the roughness of our tube (stainless steel)\n",
    "e = 0.002 * 10**(-3)\n",
    "\n",
    "f = m.sqrt(1 / ((-1.8) * m.log10( (6.9/Re) + ((e/D)/3.7)**1.11)) )\n",
    "\n",
    "print(f\"Our friction factor f: {f}\")"
   ]
  },
  {
   "cell_type": "code",
   "execution_count": 92,
   "id": "d5680d0c",
   "metadata": {},
   "outputs": [
    {
     "name": "stdout",
     "output_type": "stream",
     "text": [
      "Pressure drop: 846.296 Pa\n",
      "Pressure drop: 0.086 meters of water\n",
      "Pressure drop: 3.399 inches of water\n",
      "\n",
      "4.531715226720664\n"
     ]
    }
   ],
   "source": [
    "# Let's calculate pressure drop:\n",
    "\n",
    "L = 61 # length of our ducts (m)\n",
    "\n",
    "deltaP = f * ((L)/(D)) * ((rho * V**2)/(2))\n",
    "\n",
    "dP_head_h2o = deltaP / 9803.139\n",
    "dP_head_h2oin = dP_head_h2o * 39.3701\n",
    "\n",
    "print(f\"Pressure drop: {round(deltaP,3)} Pa\")\n",
    "print(f\"Pressure drop: {round(dP_head_h2o,3)} meters of water\")\n",
    "print(f\"Pressure drop: {round(dP_head_h2oin,3)} inches of water\")\n",
    "\n",
    "# if we have fans that do a certain cfm for 3/4\" water,\n",
    "\n",
    "print(f\"\\n{dP_head_h2oin / (3/4)}\")"
   ]
  },
  {
   "cell_type": "code",
   "execution_count": null,
   "id": "db1f0281",
   "metadata": {},
   "outputs": [],
   "source": []
  }
 ],
 "metadata": {
  "kernelspec": {
   "display_name": "Python 3 (ipykernel)",
   "language": "python",
   "name": "python3"
  },
  "language_info": {
   "codemirror_mode": {
    "name": "ipython",
    "version": 3
   },
   "file_extension": ".py",
   "mimetype": "text/x-python",
   "name": "python",
   "nbconvert_exporter": "python",
   "pygments_lexer": "ipython3",
   "version": "3.10.7"
  }
 },
 "nbformat": 4,
 "nbformat_minor": 5
}
