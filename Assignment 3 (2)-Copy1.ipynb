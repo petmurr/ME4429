{
 "cells": [
  {
   "cell_type": "code",
   "execution_count": 2,
   "id": "396fa8f0",
   "metadata": {},
   "outputs": [
    {
     "name": "stdout",
     "output_type": "stream",
     "text": [
      "m3/s: 4.0745732638888884e-05\n",
      "0.008820292502083337\n"
     ]
    }
   ],
   "source": [
    "# start with water\n",
    "waterusage = 155 # gal/day (hot water)\n",
    "\n",
    "c_water = 4.182 # specific heat, kJ/kgC\n",
    "rho_water = 997 # density, kg/m3\n",
    "\n",
    "T_water_in = 8.3 # temp, c\n",
    "T_water_out = 60 # temp, c\n",
    "\n",
    "Q_water_galhr = waterusage/4 # gal/hr (volumetric flowrate)\n",
    "Q_water_m3hr = Q_water_galhr * 0.00378541\n",
    "Q_water_m3s = Q_water_m3hr / (60 * 60)\n",
    "print(f'm3/s: {Q_water_m3s}')\n",
    "mdot_water_kghr = Q_water_galhr * 3.79 # kg/hr\n",
    "mdot_water = mdot_water_kghr / (60 * 60) # kg/s\n",
    "\n",
    "Qdot_water_kW = mdot_water * c_water * (T_water_out - T_water_in)\n",
    "Qdot_water = Qdot_water_kW / 1000\n",
    "print(Qdot_water)"
   ]
  },
  {
   "cell_type": "code",
   "execution_count": 9,
   "id": "9173612d",
   "metadata": {},
   "outputs": [
    {
     "name": "stdout",
     "output_type": "stream",
     "text": [
      "0.00033628016707016423 kg/s\n"
     ]
    }
   ],
   "source": [
    "T_glycol_in = 70 # temp, C\n",
    "T_glycol_out = 63 # temp, C (GUESS)\n",
    "c_glycol = 3.747 # specific heat, kJ/kgC\n",
    "rho_glycol = 1000 # specific heat, kJ/kgC\n",
    "\n",
    "meu_water = 0.000732 # dynamic viscosity @ 34.15C Pa*s\n",
    "meu_glycol = 0.042 # dynamic viscosity Pa*s\n",
    "meu_w_water = .000544 # dynamic viscosity Pa*s\n",
    "meu_w_glycol = meu_w_water\n",
    "\n",
    "K_water = .621 # conductivity, W/mK\n",
    "K_glycol = 0.147 # conductivity, W/mK\n",
    "\n",
    "Qdot_glycol_kW = Qdot_water\n",
    "\n",
    "mdot_glycol = (Qdot_glycol_kW) / (c_glycol * (T_glycol_in - T_glycol_out)) \n",
    "print(f'{mdot_glycol} kg/s')\n"
   ]
  },
  {
   "cell_type": "code",
   "execution_count": 11,
   "id": "48bbbd36",
   "metadata": {},
   "outputs": [
    {
     "name": "stdout",
     "output_type": "stream",
     "text": [
      "26.305280115751426 C (log mean)\n",
      "A: 0.00019705 m2\n"
     ]
    }
   ],
   "source": [
    "import math as m\n",
    "# assume U\n",
    "\n",
    "U = 1701.6225375526067 # kW/m2K\n",
    "\n",
    "T_2 = abs(T_glycol_in - T_water_out)\n",
    "T_1 = abs(T_glycol_out - T_water_in)\n",
    "T_lm = abs(T_1 - T_2) / (m.log((T_1)/(T_2)))\n",
    "print(f'{T_lm} C (log mean)')\n",
    "\n",
    "A = Qdot_water_kW / (U * T_lm)\n",
    "\n",
    "print(f\"A: {round(A,9)} m2\")"
   ]
  },
  {
   "cell_type": "code",
   "execution_count": 13,
   "id": "ee016842",
   "metadata": {},
   "outputs": [
    {
     "name": "stdout",
     "output_type": "stream",
     "text": [
      "Np: 0.009122693347132673\n",
      "Number of plates required: 0\n"
     ]
    },
    {
     "ename": "ZeroDivisionError",
     "evalue": "float division by zero",
     "output_type": "error",
     "traceback": [
      "\u001b[1;31m---------------------------------------------------------------------------\u001b[0m",
      "\u001b[1;31mZeroDivisionError\u001b[0m                         Traceback (most recent call last)",
      "\u001b[1;32m<ipython-input-13-3ec32282bdc3>\u001b[0m in \u001b[0;36m<module>\u001b[1;34m\u001b[0m\n\u001b[0;32m     13\u001b[0m \u001b[0mprint\u001b[0m\u001b[1;33m(\u001b[0m\u001b[1;34mf'Number of plates required: {Np}'\u001b[0m\u001b[1;33m)\u001b[0m\u001b[1;33m\u001b[0m\u001b[0m\n\u001b[0;32m     14\u001b[0m \u001b[1;33m\u001b[0m\u001b[0m\n\u001b[1;32m---> 15\u001b[1;33m \u001b[0mV\u001b[0m \u001b[1;33m=\u001b[0m \u001b[0mQ_water_m3s\u001b[0m \u001b[1;33m/\u001b[0m \u001b[1;33m(\u001b[0m\u001b[0mNp\u001b[0m \u001b[1;33m*\u001b[0m \u001b[0mAc\u001b[0m\u001b[1;33m)\u001b[0m\u001b[1;33m\u001b[0m\u001b[0m\n\u001b[0m\u001b[0;32m     16\u001b[0m \u001b[0mprint\u001b[0m\u001b[1;33m(\u001b[0m\u001b[1;34mf'V: {round(V,9)} m/s'\u001b[0m\u001b[1;33m)\u001b[0m\u001b[1;33m\u001b[0m\u001b[0m\n",
      "\u001b[1;31mZeroDivisionError\u001b[0m: float division by zero"
     ]
    }
   ],
   "source": [
    "phi = 1.2 # Area correction factor (1.15-1.25)\n",
    "b = 0.00014 # Gap width, m\n",
    "Wp = .1 # Width of plate, m (GUESS)\n",
    "L = .18 # height of plate, m (GUESS)\n",
    "\n",
    "Ac = Wp * b # Channel area\n",
    "Ap = phi * Wp * L # heat transfer area of the plate\n",
    "Np = A / Ap # Number of plates\n",
    "De = (2 * b) / phi\n",
    "\n",
    "print(f'Np: {Np}')\n",
    "Np = round(Np)\n",
    "print(f'Number of plates required: {Np}')\n",
    "\n",
    "V = Q_water_m3s / (Np * Ac)\n",
    "print(f'V: {round(V,9)} m/s')"
   ]
  },
  {
   "cell_type": "code",
   "execution_count": 6,
   "id": "74a7353b",
   "metadata": {},
   "outputs": [
    {
     "ename": "NameError",
     "evalue": "name 'V' is not defined",
     "output_type": "error",
     "traceback": [
      "\u001b[1;31m---------------------------------------------------------------------------\u001b[0m",
      "\u001b[1;31mNameError\u001b[0m                                 Traceback (most recent call last)",
      "\u001b[1;32m<ipython-input-6-b366cf712db0>\u001b[0m in \u001b[0;36m<module>\u001b[1;34m\u001b[0m\n\u001b[0;32m      1\u001b[0m \u001b[1;31m# for water\u001b[0m\u001b[1;33m\u001b[0m\u001b[1;33m\u001b[0m\u001b[0m\n\u001b[1;32m----> 2\u001b[1;33m \u001b[0mRe\u001b[0m \u001b[1;33m=\u001b[0m \u001b[1;33m(\u001b[0m\u001b[0mrho_water\u001b[0m \u001b[1;33m*\u001b[0m \u001b[0mV\u001b[0m \u001b[1;33m*\u001b[0m \u001b[0mDe\u001b[0m\u001b[1;33m)\u001b[0m \u001b[1;33m/\u001b[0m \u001b[0mmeu_water\u001b[0m\u001b[1;33m\u001b[0m\u001b[0m\n\u001b[0m\u001b[0;32m      3\u001b[0m \u001b[0mprint\u001b[0m\u001b[1;33m(\u001b[0m\u001b[0mRe\u001b[0m\u001b[1;33m)\u001b[0m\u001b[1;33m\u001b[0m\u001b[0m\n\u001b[0;32m      4\u001b[0m \u001b[1;33m\u001b[0m\u001b[0m\n\u001b[0;32m      5\u001b[0m \u001b[1;31m# From chevron angles, choose 45deg\u001b[0m\u001b[1;33m\u001b[0m\u001b[1;33m\u001b[0m\u001b[0m\n",
      "\u001b[1;31mNameError\u001b[0m: name 'V' is not defined"
     ]
    }
   ],
   "source": [
    "# for water\n",
    "Re = (rho_water * V * De) / meu_water\n",
    "print(Re)\n",
    "\n",
    "# From chevron angles, choose 45deg\n",
    "Ch = .3\n",
    "n = .663\n",
    "\n",
    "Pr = ((c_water*1000) * meu_water) / K_water\n",
    "print(Pr)\n",
    "\n",
    "Nu = Ch * (Re)**n * Pr**(.4) * (meu_water / meu_w_water)**(0.17)\n",
    "print(Nu)\n",
    "\n",
    "h_water = (Nu * K_water) / De \n",
    "print(h_water)"
   ]
  },
  {
   "cell_type": "code",
   "execution_count": 7,
   "id": "3d8b8f2b",
   "metadata": {},
   "outputs": [
    {
     "ename": "NameError",
     "evalue": "name 'V' is not defined",
     "output_type": "error",
     "traceback": [
      "\u001b[1;31m---------------------------------------------------------------------------\u001b[0m",
      "\u001b[1;31mNameError\u001b[0m                                 Traceback (most recent call last)",
      "\u001b[1;32m<ipython-input-7-a03906d1fbba>\u001b[0m in \u001b[0;36m<module>\u001b[1;34m\u001b[0m\n\u001b[0;32m      1\u001b[0m \u001b[1;31m# for water\u001b[0m\u001b[1;33m\u001b[0m\u001b[1;33m\u001b[0m\u001b[0m\n\u001b[1;32m----> 2\u001b[1;33m \u001b[0mRe\u001b[0m \u001b[1;33m=\u001b[0m \u001b[1;33m(\u001b[0m\u001b[0mrho_glycol\u001b[0m \u001b[1;33m*\u001b[0m \u001b[0mV\u001b[0m \u001b[1;33m*\u001b[0m \u001b[0mDe\u001b[0m\u001b[1;33m)\u001b[0m \u001b[1;33m/\u001b[0m \u001b[0mmeu_water\u001b[0m\u001b[1;33m\u001b[0m\u001b[0m\n\u001b[0m\u001b[0;32m      3\u001b[0m \u001b[0mprint\u001b[0m\u001b[1;33m(\u001b[0m\u001b[0mRe\u001b[0m\u001b[1;33m)\u001b[0m\u001b[1;33m\u001b[0m\u001b[0m\n\u001b[0;32m      4\u001b[0m \u001b[1;33m\u001b[0m\u001b[0m\n\u001b[0;32m      5\u001b[0m \u001b[1;31m# From chevron angles, choose 45deg\u001b[0m\u001b[1;33m\u001b[0m\u001b[1;33m\u001b[0m\u001b[0m\n",
      "\u001b[1;31mNameError\u001b[0m: name 'V' is not defined"
     ]
    }
   ],
   "source": [
    "# for water\n",
    "Re = (rho_glycol * V * De) / meu_water\n",
    "print(Re)\n",
    "\n",
    "# From chevron angles, choose 45deg\n",
    "Ch = .3\n",
    "n = .663\n",
    "\n",
    "Pr = ((c_glycol*1000) * meu_glycol) / K_water\n",
    "print(Pr)\n",
    "\n",
    "Nu = Ch * (Re)**n * Pr**(.3) * (meu_glycol / meu_w_glycol)**(0.17)\n",
    "print(Nu)\n",
    "\n",
    "h_glycol = (Nu * K_water) / De \n",
    "print(h_glycol)"
   ]
  },
  {
   "cell_type": "code",
   "execution_count": 8,
   "id": "58e40069",
   "metadata": {},
   "outputs": [
    {
     "ename": "NameError",
     "evalue": "name 'h_glycol' is not defined",
     "output_type": "error",
     "traceback": [
      "\u001b[1;31m---------------------------------------------------------------------------\u001b[0m",
      "\u001b[1;31mNameError\u001b[0m                                 Traceback (most recent call last)",
      "\u001b[1;32m<ipython-input-8-557b3df7ba46>\u001b[0m in \u001b[0;36m<module>\u001b[1;34m\u001b[0m\n\u001b[0;32m      4\u001b[0m \u001b[0mRf_glycol\u001b[0m \u001b[1;33m=\u001b[0m \u001b[1;36m0.00035\u001b[0m\u001b[1;33m\u001b[0m\u001b[0m\n\u001b[0;32m      5\u001b[0m \u001b[1;33m\u001b[0m\u001b[0m\n\u001b[1;32m----> 6\u001b[1;33m \u001b[0mU_calculated\u001b[0m \u001b[1;33m=\u001b[0m \u001b[1;36m1\u001b[0m \u001b[1;33m/\u001b[0m \u001b[1;33m(\u001b[0m\u001b[1;33m(\u001b[0m\u001b[1;36m1\u001b[0m\u001b[1;33m/\u001b[0m\u001b[0mh_glycol\u001b[0m\u001b[1;33m)\u001b[0m \u001b[1;33m+\u001b[0m \u001b[1;33m(\u001b[0m\u001b[0mTp\u001b[0m\u001b[1;33m/\u001b[0m\u001b[0mK_plate\u001b[0m\u001b[1;33m)\u001b[0m \u001b[1;33m+\u001b[0m \u001b[1;33m(\u001b[0m\u001b[1;36m1\u001b[0m\u001b[1;33m/\u001b[0m\u001b[0mh_water\u001b[0m\u001b[1;33m)\u001b[0m \u001b[1;33m+\u001b[0m \u001b[0mRf_water\u001b[0m \u001b[1;33m+\u001b[0m \u001b[0mRf_glycol\u001b[0m\u001b[1;33m)\u001b[0m\u001b[1;33m\u001b[0m\u001b[0m\n\u001b[0m\u001b[0;32m      7\u001b[0m \u001b[1;33m\u001b[0m\u001b[0m\n\u001b[0;32m      8\u001b[0m \u001b[0mprint\u001b[0m\u001b[1;33m(\u001b[0m\u001b[0mU_calculated\u001b[0m\u001b[1;33m)\u001b[0m\u001b[1;33m\u001b[0m\u001b[0m\n",
      "\u001b[1;31mNameError\u001b[0m: name 'h_glycol' is not defined"
     ]
    }
   ],
   "source": [
    "Tp = .007 # plate thickness, m\n",
    "K_plate = 237 # Aluminum W/mK\n",
    "Rf_water = 0.0001763 # Fouling Factor, m2K/W\n",
    "Rf_glycol = 0.00035\n",
    "\n",
    "U_calculated = 1 / ((1/h_glycol) + (Tp/K_plate) + (1/h_water) + Rf_water + Rf_glycol)\n",
    "\n",
    "print(U_calculated)\n"
   ]
  },
  {
   "cell_type": "code",
   "execution_count": null,
   "id": "096d9a2a",
   "metadata": {},
   "outputs": [],
   "source": []
  }
 ],
 "metadata": {
  "kernelspec": {
   "display_name": "Python 3",
   "language": "python",
   "name": "python3"
  },
  "language_info": {
   "codemirror_mode": {
    "name": "ipython",
    "version": 3
   },
   "file_extension": ".py",
   "mimetype": "text/x-python",
   "name": "python",
   "nbconvert_exporter": "python",
   "pygments_lexer": "ipython3",
   "version": "3.6.5"
  }
 },
 "nbformat": 4,
 "nbformat_minor": 5
}
