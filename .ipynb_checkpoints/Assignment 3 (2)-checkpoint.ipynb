{
 "cells": [
  {
   "cell_type": "code",
   "execution_count": 7,
   "id": "396fa8f0",
   "metadata": {},
   "outputs": [
    {
     "name": "stdout",
     "output_type": "stream",
     "text": [
      "8820.292502083335\n"
     ]
    }
   ],
   "source": [
    "# start with water\n",
    "waterusage = 155 # gal/day (hot water)\n",
    "\n",
    "c_water = 4182 # specific heat, kJ/kgC\n",
    "rho_water = 997 # density, kg/m2\n",
    "\n",
    "T_water_in = 8.3 # temp, c\n",
    "T_water_out = 60 # temp, c\n",
    "\n",
    "mdot_water_galhr = waterusage/4 # gal/hr\n",
    "mdot_water_kghr = mdot_water_galhr * 3.79 # kg/hr\n",
    "mdot_water = mdot_water_kghr / (60 * 60) # kg/s\n",
    "\n",
    "Qdot_water = mdot_water * c_water * (T_water_out - T_water_in)\n",
    "print(Qdot_water)"
   ]
  }
 ],
 "metadata": {
  "kernelspec": {
   "display_name": "Python 3 (ipykernel)",
   "language": "python",
   "name": "python3"
  },
  "language_info": {
   "codemirror_mode": {
    "name": "ipython",
    "version": 3
   },
   "file_extension": ".py",
   "mimetype": "text/x-python",
   "name": "python",
   "nbconvert_exporter": "python",
   "pygments_lexer": "ipython3",
   "version": "3.9.7"
  }
 },
 "nbformat": 4,
 "nbformat_minor": 5
}
