{
 "cells": [
  {
   "cell_type": "code",
   "execution_count": 115,
   "id": "396fa8f0",
   "metadata": {},
   "outputs": [
    {
     "name": "stdout",
     "output_type": "stream",
     "text": [
      "m3/s: 4.0745732638888884e-05\n",
      "0.008820292502083337\n"
     ]
    }
   ],
   "source": [
    "# start with water\n",
    "waterusage = 155 # gal/day (hot water)\n",
    "\n",
    "c_water = 4.182 # specific heat, kJ/kgC\n",
    "rho_water = 997 # density, kg/m3\n",
    "\n",
    "T_water_in = 8.3 # temp, c\n",
    "T_water_out = 60 # temp, c\n",
    "\n",
    "Q_water_galhr = waterusage/4 # gal/hr (volumetric flowrate)\n",
    "Q_water_m3hr = Q_water_galhr * 0.00378541\n",
    "Q_water_m3s = Q_water_m3hr / (60 * 60)\n",
    "print(f'm3/s: {Q_water_m3s}')\n",
    "mdot_water_kghr = Q_water_galhr * 3.79 # kg/hr\n",
    "mdot_water = mdot_water_kghr / (60 * 60) # kg/s\n",
    "\n",
    "Qdot_water_kW = mdot_water * c_water * (T_water_out - T_water_in)\n",
    "Qdot_water = Qdot_water_kW / 1000\n",
    "print(Qdot_water)"
   ]
  },
  {
   "cell_type": "code",
   "execution_count": 130,
   "id": "9173612d",
   "metadata": {},
   "outputs": [
    {
     "name": "stdout",
     "output_type": "stream",
     "text": [
      "0.00033628016707016423 kg/s\n"
     ]
    }
   ],
   "source": [
    "T_glycol_in = 70 # temp, C\n",
    "T_glycol_out = 63 # temp, C (GUESS)\n",
    "c_glycol = 3.747 # specific heat, kJ/kgC\n",
    "rho_glycol = 1000 # specific heat, kJ/kgC\n",
    "\n",
    "meu_water = 0.000732 # dynamic viscosity @ 34.15C Pa*s\n",
    "meu_glycol = 0.042 # dynamic viscosity Pa*s\n",
    "meu_w_water = .000544 # dynamic viscosity Pa*s\n",
    "meu_w_glycol = meu_w_water\n",
    "\n",
    "K_water = .621 # conductivity, W/mK\n",
    "K_glycol = 0.147 # conductivity, W/mK\n",
    "\n",
    "Qdot_glycol_kW = Qdot_water\n",
    "\n",
    "mdot_glycol = (Qdot_glycol) / (c_glycol * (T_glycol_in - T_glycol_out)) \n",
    "print(f'{mdot_glycol} kg/s')\n"
   ]
  },
  {
   "cell_type": "code",
   "execution_count": 112,
   "id": "48bbbd36",
   "metadata": {},
   "outputs": [
    {
     "name": "stdout",
     "output_type": "stream",
     "text": [
      "26.305280115751426 C (log mean)\n",
      "A: 0.167652511 m2\n"
     ]
    }
   ],
   "source": [
    "## import math as m\n",
    "# assume U\n",
    "\n",
    "U = 2 # kW/m2K\n",
    "\n",
    "T_2 = abs(T_glycol_in - T_water_out)\n",
    "T_1 = abs(T_glycol_out - T_water_in)\n",
    "T_lm = abs(T_1 - T_2) / (m.log((T_1)/(T_2)))\n",
    "print(f'{T_lm} C (log mean)')\n",
    "\n",
    "A = Qdot_water_kW / (U * T_lm)\n",
    "\n",
    "print(f\"A: {round(A,9)} m2\")"
   ]
  },
  {
   "cell_type": "code",
   "execution_count": 113,
   "id": "ee016842",
   "metadata": {},
   "outputs": [
    {
     "name": "stdout",
     "output_type": "stream",
     "text": [
      "Np: 7.76169030133109\n",
      "Number of plates required: 8\n",
      "V: 0.363801184 m/s\n"
     ]
    }
   ],
   "source": [
    "phi = 1.2 # Area correction factor (1.15-1.25)\n",
    "b = 0.00014 # Gap width, m\n",
    "Wp = .1 # Width of plate, m (GUESS)\n",
    "L = .18 # height of plate, m (GUESS)\n",
    "\n",
    "Ac = Wp * b # Channel area\n",
    "Ap = phi * Wp * L # heat transfer area of the plate\n",
    "Np = A / Ap # Number of plates\n",
    "De = (2 * b) / phi\n",
    "\n",
    "print(f'Np: {Np}')\n",
    "Np = round(Np)\n",
    "print(f'Number of plates required: {Np}')\n",
    "\n",
    "V = Q_water_m3s / (Np * Ac)\n",
    "print(f'V: {round(V,9)} m/s')"
   ]
  },
  {
   "cell_type": "code",
   "execution_count": 126,
   "id": "74a7353b",
   "metadata": {},
   "outputs": [
    {
     "name": "stdout",
     "output_type": "stream",
     "text": [
      "115.61787181515317\n",
      "4.9295072463768115\n",
      "13.929748812100133\n",
      "37073.0314813465\n"
     ]
    }
   ],
   "source": [
    "# for water\n",
    "Re = (rho_water * V * De) / meu_water\n",
    "print(Re)\n",
    "\n",
    "# From chevron angles, choose 45deg\n",
    "Ch = .3\n",
    "n = .663\n",
    "\n",
    "Pr = ((c_water*1000) * meu_water) / K_water\n",
    "print(Pr)\n",
    "\n",
    "Nu = Ch * (Re)**n * Pr**(.4) * (meu_water / meu_w_water)**(0.17)\n",
    "print(Nu)\n",
    "\n",
    "h_water = (Nu * K_water) / De \n",
    "print(h_water)"
   ]
  },
  {
   "cell_type": "code",
   "execution_count": 132,
   "id": "3d8b8f2b",
   "metadata": {},
   "outputs": [
    {
     "name": "stdout",
     "output_type": "stream",
     "text": [
      "115.96576912252073\n",
      "253.4202898550725\n",
      "77.23691199778138\n",
      "205560.52435980958\n"
     ]
    }
   ],
   "source": [
    "# for water\n",
    "Re = (rho_glycol * V * De) / meu_water\n",
    "print(Re)\n",
    "\n",
    "# From chevron angles, choose 45deg\n",
    "Ch = .3\n",
    "n = .663\n",
    "\n",
    "Pr = ((c_glycol*1000) * meu_glycol) / K_water\n",
    "print(Pr)\n",
    "\n",
    "Nu = Ch * (Re)**n * Pr**(.3) * (meu_glycol / meu_w_glycol)**(0.17)\n",
    "print(Nu)\n",
    "\n",
    "h_glycol = (Nu * K_water) / De \n",
    "print(h_glycol)"
   ]
  },
  {
   "cell_type": "code",
   "execution_count": 134,
   "id": "58e40069",
   "metadata": {},
   "outputs": [
    {
     "name": "stdout",
     "output_type": "stream",
     "text": [
      "1701.6225375526067\n"
     ]
    }
   ],
   "source": [
    "Tp = .007 # plate thickness, m\n",
    "K_plate = 237 # Aluminum W/mK\n",
    "Rf_water = 0.0001763 # Fouling Factor, m2K/W\n",
    "Rf_glycol = 0.00035\n",
    "\n",
    "U_calculated = 1 / ((1/h_glycol) + (Tp/K_plate) + (1/h_water) + Rf_water + Rf_glycol)\n",
    "\n",
    "print(U_calculated)\n"
   ]
  }
 ],
 "metadata": {
  "kernelspec": {
   "display_name": "Python 3",
   "language": "python",
   "name": "python3"
  },
  "language_info": {
   "codemirror_mode": {
    "name": "ipython",
    "version": 3
   },
   "file_extension": ".py",
   "mimetype": "text/x-python",
   "name": "python",
   "nbconvert_exporter": "python",
   "pygments_lexer": "ipython3",
   "version": "3.6.5"
  }
 },
 "nbformat": 4,
 "nbformat_minor": 5
}
