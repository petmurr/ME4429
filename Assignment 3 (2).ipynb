{
 "cells": [
  {
   "cell_type": "code",
   "execution_count": null,
   "id": "396fa8f0",
   "metadata": {},
   "outputs": [],
   "source": [
    "Np = 21 # plates\n",
    "b = 1.4 # mm\n",
    "Ap = 0.0324 # mm\n",
    "A = Ap * Np\n",
    "L = 180 # mm\n",
    "phi = 1.2\n",
    "\n",
    "\n",
    "Al = L * b\n",
    "\n",
    "# find mdot of system\n",
    "\n",
    "mdot_ghr = 155/4 # grams/hr\n",
    "mdot"
   ]
  }
 ],
 "metadata": {
  "kernelspec": {
   "display_name": "Python 3 (ipykernel)",
   "language": "python",
   "name": "python3"
  },
  "language_info": {
   "codemirror_mode": {
    "name": "ipython",
    "version": 3
   },
   "file_extension": ".py",
   "mimetype": "text/x-python",
   "name": "python",
   "nbconvert_exporter": "python",
   "pygments_lexer": "ipython3",
   "version": "3.9.7"
  }
 },
 "nbformat": 4,
 "nbformat_minor": 5
}
